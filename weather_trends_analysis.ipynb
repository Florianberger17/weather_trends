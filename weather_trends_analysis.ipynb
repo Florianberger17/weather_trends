{
 "cells": [
  {
   "cell_type": "markdown",
   "metadata": {},
   "source": [
    "# Project: Explore Weather Trends\n",
    "\n",
    "## Table of Contents\n",
    "<ul>\n",
    "<li><a href=\"#intro\">Introduction</a></li>\n",
    "<li><a href=\"#tools\">Tools</a></li>\n",
    "<li><a href=\"#approach\">Approach</a></li>\n",
    "<li><a href=\"#observations\">Observations</a></li>\n",
    "</ul>"
   ]
  },
  {
   "cell_type": "markdown",
   "metadata": {},
   "source": [
    "<a id='intro'></a>\n",
    "## Introduction\n",
    "\n",
    "Within this project the provided average temperature data for the city **Munich** is compared to the average temperature data **worldwide**, which has been provided on the udacity homepage. "
   ]
  },
  {
   "cell_type": "markdown",
   "metadata": {},
   "source": [
    "<a id='tools'></a>\n",
    "## Tools\n",
    "The following tools have been used within this project:\n",
    "\n",
    "- **SQL database:** A SQL databse has been accessed via the udacity page in order to receive the temperature data as csv files\n",
    "- **Jupyter Notebooks:** Jupyter notebooks has been used as tool to clean, analyze data and visualize relevant findings"
   ]
  },
  {
   "cell_type": "markdown",
   "metadata": {},
   "source": [
    "<a id='approach'></a>\n",
    "## Approach\n",
    "\n",
    "Following the general steps are described which have been performed within this project.\n",
    "\n",
    "### I. Retrieving project data\n",
    "The respective datasets have been downloaded as csv files from the udacity homepage by applying the queries to the given SQL datase:\n",
    "\n",
    "1, weather_data_munich.csv: **Select * from city_data where city = 'Munich'**  \n",
    "2, weather_data_global.csv: **Select * from global_data**"
   ]
  },
  {
   "cell_type": "markdown",
   "metadata": {},
   "source": [
    "### II. Importing libraries and creating dataframe"
   ]
  },
  {
   "cell_type": "code",
   "execution_count": 42,
   "metadata": {},
   "outputs": [],
   "source": [
    "# Before starting into the actual data analysis the necessary libraries and packages are imported\n",
    "import pandas as pd\n",
    "import numpy as np\n",
    "import matplotlib.pyplot as plt\n",
    "\n",
    "%matplotlib inline"
   ]
  },
  {
   "cell_type": "code",
   "execution_count": 43,
   "metadata": {},
   "outputs": [],
   "source": [
    "# Loading csv files as data frame and inspecting first samples in dataset\n",
    "df_local = pd.read_csv('weather_data_munich.csv')\n",
    "df_global = pd.read_csv('weather_data_global.csv')"
   ]
  },
  {
   "cell_type": "markdown",
   "metadata": {},
   "source": [
    "### III. Assessing data\n",
    "In order to sufficiently understand the project data, the shape, rows and columens as well as the datatypes and mean values are examined."
   ]
  },
  {
   "cell_type": "code",
   "execution_count": 44,
   "metadata": {},
   "outputs": [
    {
     "data": {
      "text/plain": [
       "(271, 4)"
      ]
     },
     "execution_count": 44,
     "metadata": {},
     "output_type": "execute_result"
    }
   ],
   "source": [
    "# df_local: Examining shape\n",
    "df_local.shape"
   ]
  },
  {
   "cell_type": "code",
   "execution_count": 45,
   "metadata": {},
   "outputs": [
    {
     "name": "stdout",
     "output_type": "stream",
     "text": [
      "<class 'pandas.core.frame.DataFrame'>\n",
      "RangeIndex: 271 entries, 0 to 270\n",
      "Data columns (total 4 columns):\n",
      " #   Column    Non-Null Count  Dtype  \n",
      "---  ------    --------------  -----  \n",
      " 0   year      271 non-null    int64  \n",
      " 1   city      271 non-null    object \n",
      " 2   country   271 non-null    object \n",
      " 3   avg_temp  267 non-null    float64\n",
      "dtypes: float64(1), int64(1), object(2)\n",
      "memory usage: 6.4+ KB\n"
     ]
    }
   ],
   "source": [
    "# df_local: Examining general characteristics\n",
    "df_local.info()"
   ]
  },
  {
   "cell_type": "code",
   "execution_count": 46,
   "metadata": {},
   "outputs": [
    {
     "name": "stdout",
     "output_type": "stream",
     "text": [
      "city <class 'str'>\n",
      "country <class 'str'>\n"
     ]
    }
   ],
   "source": [
    "# df_local: Checking types of data type 'object'\n",
    "obj_labels = ['city','country']\n",
    "for c in obj_labels:\n",
    "   print(c, type(df_local[c][0]))"
   ]
  },
  {
   "cell_type": "code",
   "execution_count": 47,
   "metadata": {},
   "outputs": [
    {
     "data": {
      "text/plain": [
       "(266, 2)"
      ]
     },
     "execution_count": 47,
     "metadata": {},
     "output_type": "execute_result"
    }
   ],
   "source": [
    "# df_global: Examining shape\n",
    "df_global.shape"
   ]
  },
  {
   "cell_type": "code",
   "execution_count": 48,
   "metadata": {},
   "outputs": [
    {
     "name": "stdout",
     "output_type": "stream",
     "text": [
      "<class 'pandas.core.frame.DataFrame'>\n",
      "RangeIndex: 266 entries, 0 to 265\n",
      "Data columns (total 2 columns):\n",
      " #   Column    Non-Null Count  Dtype  \n",
      "---  ------    --------------  -----  \n",
      " 0   year      266 non-null    int64  \n",
      " 1   avg_temp  266 non-null    float64\n",
      "dtypes: float64(1), int64(1)\n",
      "memory usage: 4.2 KB\n"
     ]
    }
   ],
   "source": [
    "# df_global: Examining general characteristics\n",
    "df_global.info()"
   ]
  },
  {
   "cell_type": "markdown",
   "metadata": {},
   "source": [
    "### IV. Cleaning data\n",
    "Due to comparability and accessability, the relevant data within the two dataframes **df_local** and **df_global** gets combined within one single dataframe **df**."
   ]
  },
  {
   "cell_type": "markdown",
   "metadata": {},
   "source": [
    "**a,** Preparing both dataframes in order to combine them in a new datarame."
   ]
  },
  {
   "cell_type": "code",
   "execution_count": 49,
   "metadata": {},
   "outputs": [],
   "source": [
    "# Current state: df_global covers timespan from 1750 to 2015 and df_local from 1743 to 2013\n",
    "# -> Reducing df_local and df_global to mutual timespan (1750 to 2013)\n",
    "df_global =  df_global.drop([264,265])\n",
    "df_local = df_local.drop([0,1,2,3,4,5,6])"
   ]
  },
  {
   "cell_type": "markdown",
   "metadata": {},
   "source": [
    "**b,** Making sure that the number of samples are equal and both dataframes cover the same timespan."
   ]
  },
  {
   "cell_type": "code",
   "execution_count": 50,
   "metadata": {},
   "outputs": [],
   "source": [
    "# Reseting indices for both dataframes as rows from the dataframes have been deleted\n",
    "df_global = df_global.reset_index(drop=True)\n",
    "df_local = df_local.reset_index(drop=True)"
   ]
  },
  {
   "cell_type": "code",
   "execution_count": 51,
   "metadata": {},
   "outputs": [
    {
     "name": "stdout",
     "output_type": "stream",
     "text": [
      "True\n"
     ]
    }
   ],
   "source": [
    "# Do the two dataframes really have the same number of rows? Otherwise they can't be combined later.\n",
    "if len(df_global.year) == len(df_local.year):\n",
    "    print(True)"
   ]
  },
  {
   "cell_type": "code",
   "execution_count": 52,
   "metadata": {},
   "outputs": [
    {
     "name": "stdout",
     "output_type": "stream",
     "text": [
      "True\n"
     ]
    }
   ],
   "source": [
    "# Do the two dataframes really have in every sample the same value for 'year'?\n",
    "cross_check = []\n",
    "for c in range(len(df_global.year)):\n",
    "    cross_check.append(df_global.year[c] == df_local.year[c])\n",
    "\n",
    "cross_check = np.array(cross_check)\n",
    "\n",
    "if cross_check.sum() == len(cross_check):\n",
    "    print(True)"
   ]
  },
  {
   "cell_type": "markdown",
   "metadata": {},
   "source": [
    "**c,** Creating the new dataframe df and combining the relevant data."
   ]
  },
  {
   "cell_type": "code",
   "execution_count": 53,
   "metadata": {},
   "outputs": [],
   "source": [
    "# Creating the new dataframe df in order to combine the relevant data from df_local and df_global\n",
    "df = df_global.copy()"
   ]
  },
  {
   "cell_type": "code",
   "execution_count": 54,
   "metadata": {},
   "outputs": [],
   "source": [
    "# Renaming column label in order to differentiate between global and local\n",
    "df.rename(columns={'avg_temp':'avg_temp_global'}, inplace=True)"
   ]
  },
  {
   "cell_type": "code",
   "execution_count": 55,
   "metadata": {},
   "outputs": [],
   "source": [
    "# Adding temperature data from df_local to new dataframe df with adapted label name\n",
    "df['avg_temp_local'] = df_local['avg_temp'].copy()"
   ]
  },
  {
   "cell_type": "markdown",
   "metadata": {},
   "source": [
    "**d,** Quick check if the data has been combined correctly within the new dataframe."
   ]
  },
  {
   "cell_type": "code",
   "execution_count": 56,
   "metadata": {},
   "outputs": [
    {
     "data": {
      "text/html": [
       "<div>\n",
       "<style scoped>\n",
       "    .dataframe tbody tr th:only-of-type {\n",
       "        vertical-align: middle;\n",
       "    }\n",
       "\n",
       "    .dataframe tbody tr th {\n",
       "        vertical-align: top;\n",
       "    }\n",
       "\n",
       "    .dataframe thead th {\n",
       "        text-align: right;\n",
       "    }\n",
       "</style>\n",
       "<table border=\"1\" class=\"dataframe\">\n",
       "  <thead>\n",
       "    <tr style=\"text-align: right;\">\n",
       "      <th></th>\n",
       "      <th>year</th>\n",
       "      <th>avg_temp_global</th>\n",
       "      <th>avg_temp_local</th>\n",
       "    </tr>\n",
       "  </thead>\n",
       "  <tbody>\n",
       "    <tr>\n",
       "      <th>0</th>\n",
       "      <td>1750</td>\n",
       "      <td>8.72</td>\n",
       "      <td>5.40</td>\n",
       "    </tr>\n",
       "    <tr>\n",
       "      <th>1</th>\n",
       "      <td>1751</td>\n",
       "      <td>7.98</td>\n",
       "      <td>5.54</td>\n",
       "    </tr>\n",
       "    <tr>\n",
       "      <th>2</th>\n",
       "      <td>1752</td>\n",
       "      <td>5.78</td>\n",
       "      <td>0.53</td>\n",
       "    </tr>\n",
       "  </tbody>\n",
       "</table>\n",
       "</div>"
      ],
      "text/plain": [
       "   year  avg_temp_global  avg_temp_local\n",
       "0  1750             8.72            5.40\n",
       "1  1751             7.98            5.54\n",
       "2  1752             5.78            0.53"
      ]
     },
     "execution_count": 56,
     "metadata": {},
     "output_type": "execute_result"
    }
   ],
   "source": [
    "df.head(3)"
   ]
  },
  {
   "cell_type": "markdown",
   "metadata": {},
   "source": [
    "### V. Analyzing data\n",
    "Within this step necessary calculations within the project are performed and relevant relationships within the data are visualized\n",
    "\n",
    "**a,** Creating two new columns in df and calculating **Moving Average over 10 years** for local and global temperature data."
   ]
  },
  {
   "cell_type": "code",
   "execution_count": 57,
   "metadata": {},
   "outputs": [],
   "source": [
    "# Creating two new columns with values for moving averages over 10 years for local an global data\n",
    "df['mov_avg_global'] = df['avg_temp_global'].rolling(window=10).mean()\n",
    "df['mov_avg_local'] = df['avg_temp_local'].rolling(window=10).mean()"
   ]
  },
  {
   "cell_type": "code",
   "execution_count": 58,
   "metadata": {},
   "outputs": [
    {
     "data": {
      "text/html": [
       "<div>\n",
       "<style scoped>\n",
       "    .dataframe tbody tr th:only-of-type {\n",
       "        vertical-align: middle;\n",
       "    }\n",
       "\n",
       "    .dataframe tbody tr th {\n",
       "        vertical-align: top;\n",
       "    }\n",
       "\n",
       "    .dataframe thead th {\n",
       "        text-align: right;\n",
       "    }\n",
       "</style>\n",
       "<table border=\"1\" class=\"dataframe\">\n",
       "  <thead>\n",
       "    <tr style=\"text-align: right;\">\n",
       "      <th></th>\n",
       "      <th>year</th>\n",
       "      <th>avg_temp_global</th>\n",
       "      <th>avg_temp_local</th>\n",
       "      <th>mov_avg_global</th>\n",
       "      <th>mov_avg_local</th>\n",
       "    </tr>\n",
       "  </thead>\n",
       "  <tbody>\n",
       "    <tr>\n",
       "      <th>0</th>\n",
       "      <td>1750</td>\n",
       "      <td>8.72</td>\n",
       "      <td>5.40</td>\n",
       "      <td>NaN</td>\n",
       "      <td>NaN</td>\n",
       "    </tr>\n",
       "    <tr>\n",
       "      <th>1</th>\n",
       "      <td>1751</td>\n",
       "      <td>7.98</td>\n",
       "      <td>5.54</td>\n",
       "      <td>NaN</td>\n",
       "      <td>NaN</td>\n",
       "    </tr>\n",
       "    <tr>\n",
       "      <th>2</th>\n",
       "      <td>1752</td>\n",
       "      <td>5.78</td>\n",
       "      <td>0.53</td>\n",
       "      <td>NaN</td>\n",
       "      <td>NaN</td>\n",
       "    </tr>\n",
       "    <tr>\n",
       "      <th>3</th>\n",
       "      <td>1753</td>\n",
       "      <td>8.39</td>\n",
       "      <td>4.61</td>\n",
       "      <td>NaN</td>\n",
       "      <td>NaN</td>\n",
       "    </tr>\n",
       "    <tr>\n",
       "      <th>4</th>\n",
       "      <td>1754</td>\n",
       "      <td>8.47</td>\n",
       "      <td>4.33</td>\n",
       "      <td>NaN</td>\n",
       "      <td>NaN</td>\n",
       "    </tr>\n",
       "    <tr>\n",
       "      <th>5</th>\n",
       "      <td>1755</td>\n",
       "      <td>8.36</td>\n",
       "      <td>4.05</td>\n",
       "      <td>NaN</td>\n",
       "      <td>NaN</td>\n",
       "    </tr>\n",
       "    <tr>\n",
       "      <th>6</th>\n",
       "      <td>1756</td>\n",
       "      <td>8.85</td>\n",
       "      <td>4.64</td>\n",
       "      <td>NaN</td>\n",
       "      <td>NaN</td>\n",
       "    </tr>\n",
       "    <tr>\n",
       "      <th>7</th>\n",
       "      <td>1757</td>\n",
       "      <td>9.02</td>\n",
       "      <td>4.30</td>\n",
       "      <td>NaN</td>\n",
       "      <td>NaN</td>\n",
       "    </tr>\n",
       "    <tr>\n",
       "      <th>8</th>\n",
       "      <td>1758</td>\n",
       "      <td>6.74</td>\n",
       "      <td>3.83</td>\n",
       "      <td>NaN</td>\n",
       "      <td>NaN</td>\n",
       "    </tr>\n",
       "    <tr>\n",
       "      <th>9</th>\n",
       "      <td>1759</td>\n",
       "      <td>7.99</td>\n",
       "      <td>4.89</td>\n",
       "      <td>8.030</td>\n",
       "      <td>4.212</td>\n",
       "    </tr>\n",
       "    <tr>\n",
       "      <th>10</th>\n",
       "      <td>1760</td>\n",
       "      <td>7.19</td>\n",
       "      <td>5.02</td>\n",
       "      <td>7.877</td>\n",
       "      <td>4.174</td>\n",
       "    </tr>\n",
       "    <tr>\n",
       "      <th>11</th>\n",
       "      <td>1761</td>\n",
       "      <td>8.77</td>\n",
       "      <td>4.94</td>\n",
       "      <td>7.956</td>\n",
       "      <td>4.114</td>\n",
       "    </tr>\n",
       "  </tbody>\n",
       "</table>\n",
       "</div>"
      ],
      "text/plain": [
       "    year  avg_temp_global  avg_temp_local  mov_avg_global  mov_avg_local\n",
       "0   1750             8.72            5.40             NaN            NaN\n",
       "1   1751             7.98            5.54             NaN            NaN\n",
       "2   1752             5.78            0.53             NaN            NaN\n",
       "3   1753             8.39            4.61             NaN            NaN\n",
       "4   1754             8.47            4.33             NaN            NaN\n",
       "5   1755             8.36            4.05             NaN            NaN\n",
       "6   1756             8.85            4.64             NaN            NaN\n",
       "7   1757             9.02            4.30             NaN            NaN\n",
       "8   1758             6.74            3.83             NaN            NaN\n",
       "9   1759             7.99            4.89           8.030          4.212\n",
       "10  1760             7.19            5.02           7.877          4.174\n",
       "11  1761             8.77            4.94           7.956          4.114"
      ]
     },
     "execution_count": 58,
     "metadata": {},
     "output_type": "execute_result"
    }
   ],
   "source": [
    "## Checking, if new columns have been created and if calcuations were successfull\n",
    "df.head(12)"
   ]
  },
  {
   "cell_type": "markdown",
   "metadata": {},
   "source": [
    "**b,** Plotting **line graph** in order to compare the **moving average** for local and global temperature data."
   ]
  },
  {
   "cell_type": "code",
   "execution_count": 59,
   "metadata": {},
   "outputs": [],
   "source": [
    "# Creating new dataframe to be able to work with subplots within the visualization\n",
    "df_graph = df.copy()"
   ]
  },
  {
   "cell_type": "code",
   "execution_count": 60,
   "metadata": {},
   "outputs": [],
   "source": [
    "# Setting column 'year' as index -> x-axis within line chart\n",
    "df_graph = df_graph.set_index('year')"
   ]
  },
  {
   "cell_type": "code",
   "execution_count": 61,
   "metadata": {},
   "outputs": [],
   "source": [
    "# Getting rid of the columns 'avg_temp_global' and 'avg_temp_local' as they are not needed within the line chart\n",
    "df_graph.drop(['avg_temp_local', 'avg_temp_global'], axis=1, inplace=True)"
   ]
  },
  {
   "cell_type": "code",
   "execution_count": 62,
   "metadata": {},
   "outputs": [
    {
     "data": {
      "text/html": [
       "<div>\n",
       "<style scoped>\n",
       "    .dataframe tbody tr th:only-of-type {\n",
       "        vertical-align: middle;\n",
       "    }\n",
       "\n",
       "    .dataframe tbody tr th {\n",
       "        vertical-align: top;\n",
       "    }\n",
       "\n",
       "    .dataframe thead th {\n",
       "        text-align: right;\n",
       "    }\n",
       "</style>\n",
       "<table border=\"1\" class=\"dataframe\">\n",
       "  <thead>\n",
       "    <tr style=\"text-align: right;\">\n",
       "      <th></th>\n",
       "      <th>mov_avg_global</th>\n",
       "      <th>mov_avg_local</th>\n",
       "    </tr>\n",
       "    <tr>\n",
       "      <th>year</th>\n",
       "      <th></th>\n",
       "      <th></th>\n",
       "    </tr>\n",
       "  </thead>\n",
       "  <tbody>\n",
       "    <tr>\n",
       "      <th>1750</th>\n",
       "      <td>NaN</td>\n",
       "      <td>NaN</td>\n",
       "    </tr>\n",
       "    <tr>\n",
       "      <th>1751</th>\n",
       "      <td>NaN</td>\n",
       "      <td>NaN</td>\n",
       "    </tr>\n",
       "    <tr>\n",
       "      <th>1752</th>\n",
       "      <td>NaN</td>\n",
       "      <td>NaN</td>\n",
       "    </tr>\n",
       "    <tr>\n",
       "      <th>1753</th>\n",
       "      <td>NaN</td>\n",
       "      <td>NaN</td>\n",
       "    </tr>\n",
       "    <tr>\n",
       "      <th>1754</th>\n",
       "      <td>NaN</td>\n",
       "      <td>NaN</td>\n",
       "    </tr>\n",
       "    <tr>\n",
       "      <th>1755</th>\n",
       "      <td>NaN</td>\n",
       "      <td>NaN</td>\n",
       "    </tr>\n",
       "    <tr>\n",
       "      <th>1756</th>\n",
       "      <td>NaN</td>\n",
       "      <td>NaN</td>\n",
       "    </tr>\n",
       "    <tr>\n",
       "      <th>1757</th>\n",
       "      <td>NaN</td>\n",
       "      <td>NaN</td>\n",
       "    </tr>\n",
       "    <tr>\n",
       "      <th>1758</th>\n",
       "      <td>NaN</td>\n",
       "      <td>NaN</td>\n",
       "    </tr>\n",
       "    <tr>\n",
       "      <th>1759</th>\n",
       "      <td>8.030</td>\n",
       "      <td>4.212</td>\n",
       "    </tr>\n",
       "    <tr>\n",
       "      <th>1760</th>\n",
       "      <td>7.877</td>\n",
       "      <td>4.174</td>\n",
       "    </tr>\n",
       "    <tr>\n",
       "      <th>1761</th>\n",
       "      <td>7.956</td>\n",
       "      <td>4.114</td>\n",
       "    </tr>\n",
       "  </tbody>\n",
       "</table>\n",
       "</div>"
      ],
      "text/plain": [
       "      mov_avg_global  mov_avg_local\n",
       "year                               \n",
       "1750             NaN            NaN\n",
       "1751             NaN            NaN\n",
       "1752             NaN            NaN\n",
       "1753             NaN            NaN\n",
       "1754             NaN            NaN\n",
       "1755             NaN            NaN\n",
       "1756             NaN            NaN\n",
       "1757             NaN            NaN\n",
       "1758             NaN            NaN\n",
       "1759           8.030          4.212\n",
       "1760           7.877          4.174\n",
       "1761           7.956          4.114"
      ]
     },
     "execution_count": 62,
     "metadata": {},
     "output_type": "execute_result"
    }
   ],
   "source": [
    "## Checking, if the previous steps were successfull\n",
    "df_graph.head(12)"
   ]
  },
  {
   "cell_type": "code",
   "execution_count": 63,
   "metadata": {},
   "outputs": [
    {
     "data": {
      "image/png": "[encoded data removed]",
      "text/plain": [
       "<Figure size 864x360 with 1 Axes>"
      ]
     },
     "metadata": {
      "needs_background": "light"
     },
     "output_type": "display_data"
    }
   ],
   "source": [
    "# Plotting the combined line chart for Munich and the worldwide temperature data\n",
    "df_graph.plot.line(figsize=(12,5), linewidth=2.5);\n",
    "plt.title('Munich vs. World: Moving average of temperature over time')\n",
    "plt.xlabel('Year')\n",
    "plt.ylabel('Moving average of temperature [°Celsius]');"
   ]
  },
  {
   "cell_type": "markdown",
   "metadata": {},
   "source": [
    "**c,** Checking via calculation if the **mean temperature** in Munich and for the world **is increasing or decreasing**."
   ]
  },
  {
   "cell_type": "code",
   "execution_count": 64,
   "metadata": {},
   "outputs": [
    {
     "data": {
      "text/plain": [
       "1.565999999999998"
      ]
     },
     "execution_count": 64,
     "metadata": {},
     "output_type": "execute_result"
    }
   ],
   "source": [
    "# Munich: Comparing first datapoint for moving average of temperature ('year' = 1759) with last datapoint ('year' = 2013)\n",
    "temp_local_dp1 = df.query('year == 1759').mov_avg_local.sum()\n",
    "temp_local_dp2 = df.query('year == 2013').mov_avg_local.sum()\n",
    "diff_local = temp_local_dp2 - temp_local_dp1\n",
    "diff_local"
   ]
  },
  {
   "cell_type": "code",
   "execution_count": 65,
   "metadata": {},
   "outputs": [
    {
     "name": "stdout",
     "output_type": "stream",
     "text": [
      "True\n"
     ]
    }
   ],
   "source": [
    "# Munich: Checking if temperature has been rising:\n",
    "if diff_local > 0:\n",
    "    print(True)"
   ]
  },
  {
   "cell_type": "code",
   "execution_count": 66,
   "metadata": {},
   "outputs": [
    {
     "data": {
      "text/plain": [
       "1.5260000000000087"
      ]
     },
     "execution_count": 66,
     "metadata": {},
     "output_type": "execute_result"
    }
   ],
   "source": [
    "# World: Comparing first datapoint for moving average of temperature ('year' = 1759) with last datapoint ('year' = 2013)\n",
    "temp_global_dp1 = df.query('year == 1759').mov_avg_global.sum()\n",
    "temp_global_dp2 = df.query('year == 2013').mov_avg_global.sum()\n",
    "diff_global = temp_global_dp2 - temp_global_dp1\n",
    "diff_global"
   ]
  },
  {
   "cell_type": "code",
   "execution_count": 67,
   "metadata": {},
   "outputs": [
    {
     "name": "stdout",
     "output_type": "stream",
     "text": [
      "True\n"
     ]
    }
   ],
   "source": [
    "# World: Checking if temperature has been rising:\n",
    "if diff_global > 0:\n",
    "    print(True)"
   ]
  },
  {
   "cell_type": "markdown",
   "metadata": {},
   "source": [
    "**d,** Comparing **mean temperature changes** over time. To make the results more significant, the **mean values** for **two test periods** (period1: 1750 to 1800, period 2: 1950 to 2000) are calculated for Munich and the worldwide temperature."
   ]
  },
  {
   "cell_type": "code",
   "execution_count": 68,
   "metadata": {},
   "outputs": [
    {
     "data": {
      "text/plain": [
       "0.4631999999999996"
      ]
     },
     "execution_count": 68,
     "metadata": {},
     "output_type": "execute_result"
    }
   ],
   "source": [
    "# Munich: Calculating mean temperature difference for the two test intervals\n",
    "temp_local_p1 = df.query('year <1800').avg_temp_local.mean()\n",
    "temp_local_p2 = df.query('year >=1950 and year <2000').avg_temp_local.mean()\n",
    "diff_local = temp_local_p2 - temp_local_p1\n",
    "diff_local"
   ]
  },
  {
   "cell_type": "code",
   "execution_count": 69,
   "metadata": {},
   "outputs": [
    {
     "data": {
      "text/plain": [
       "0.6188000000000002"
      ]
     },
     "execution_count": 69,
     "metadata": {},
     "output_type": "execute_result"
    }
   ],
   "source": [
    "# World: Calculating mean temperature difference for the two test intervals\n",
    "temp_global_p1 = df.query('year <1800').avg_temp_global.mean()\n",
    "temp_global_p2 = df.query('year >=1950 and year <2000').avg_temp_global.mean()\n",
    "diff_global = temp_global_p2 - temp_global_p1\n",
    "diff_global"
   ]
  },
  {
   "cell_type": "code",
   "execution_count": 70,
   "metadata": {},
   "outputs": [],
   "source": [
    "# Checking if the temperature mean temperature changes have been larger for Munich than for the world\n",
    "if diff_local > diff_global:\n",
    "    print(True)"
   ]
  },
  {
   "cell_type": "markdown",
   "metadata": {},
   "source": [
    "**d,** Checking if the **velocity** with which the average global temperature **is rising increased** during the last 100 years."
   ]
  },
  {
   "cell_type": "code",
   "execution_count": 71,
   "metadata": {},
   "outputs": [
    {
     "name": "stdout",
     "output_type": "stream",
     "text": [
      "8.5076 8.6752 8.745599999999998 9.367916666666666\n"
     ]
    }
   ],
   "source": [
    "# Dividing the timespan from 1915 to 2015 into 4 intervals and calculating the mean global temperature for each interval\n",
    "mean_interv_1 = df.query('year >= 1915 and year <1940').avg_temp_global.mean()\n",
    "mean_interv_2 = df.query('year >= 1940 and year <1965').avg_temp_global.mean()\n",
    "mean_interv_3 = df.query('year >= 1965 and year <1990').avg_temp_global.mean()\n",
    "mean_interv_4 = df.query('year >= 1990 and year <2015').avg_temp_global.mean()\n",
    "print(mean_interv1, mean_interv2, mean_interv3, mean_interv4)"
   ]
  },
  {
   "cell_type": "code",
   "execution_count": 72,
   "metadata": {},
   "outputs": [
    {
     "name": "stdout",
     "output_type": "stream",
     "text": [
      "-0.1676000000000002 0.07039999999999758 0.6223166666666682\n"
     ]
    }
   ],
   "source": [
    "# Calculating the difference between each intervals for the mean temperature values\n",
    "diff_1 = mean_interv_1 - mean_interv_2\n",
    "diff_2 = mean_interv_3 - mean_interv_2\n",
    "diff_3 = mean_interv_4 - mean_interv_3\n",
    "print(diff_1, diff_2, diff_3)"
   ]
  },
  {
   "cell_type": "code",
   "execution_count": 73,
   "metadata": {},
   "outputs": [
    {
     "name": "stdout",
     "output_type": "stream",
     "text": [
      "True\n"
     ]
    }
   ],
   "source": [
    "# Quick check, if calculated values support theory of increasing velocity\n",
    "if diff_3 > diff_2 and diff_2 > diff_1:\n",
    "    print(True)"
   ]
  },
  {
   "cell_type": "markdown",
   "metadata": {},
   "source": [
    "<a id='observations'></a>\n",
    "## Observations\n",
    "\n",
    "**1. Observation:** The average temperature in Munich **has consistently been lower** than for the whole world during the regarded timespan (1750 - 2013).\n",
    "\n",
    "> The fact that the line for the moving average temperature in Munich (organe) stays beneath the average temperature worldwide (blue) for the whole period under review (1750 to 2013) in the line chart supports this statement\n",
    "\n",
    "**2. Observation:** The mean temperatures **are rising** in Munich **as well as** as well as worldwide over the observation timespan (1750 - 2013).\n",
    "\n",
    "> This development can easily be observed by regarding the line graph. Additionally the general temperature rise from 1758 to 2013 (moving average over 10 years) has been calculated. For Munich the increase in temperature was about 1.566 °C and for the world a rise of 1.526 °C.\n",
    "\n",
    "**3. Observation:** The **mean temperature changes** in Munich **were larger** than worldwide.\n",
    "> *Justification*: In Munich the temperature increase from period 1 (1750 to 1800) to period 2 (1950 to 2000) was about 0.641 °C, while the the temperature increase for the world was about 0.619°C.\n",
    "\n",
    "**4. Observation:** The **velocity** with which the average global temperature **is rising increased** during the last 100 years (1915 to 2015).\n",
    "> An increase in velocity of global warming within the last 100 years seems apparent from the plotted line graph. Also the differences in mean global temperature which have been calculated additionally support this observation (difference I2 to I1: -0.1676, difference I3 to I2: 0.0704, difference I4 to I3: 0.6223)"
   ]
  },
  {
   "cell_type": "code",
   "execution_count": null,
   "metadata": {},
   "outputs": [],
   "source": []
  }
 ],
 "metadata": {
  "kernelspec": {
   "display_name": "Python 3",
   "language": "python",
   "name": "python3"
  },
  "language_info": {
   "codemirror_mode": {
    "name": "ipython",
    "version": 3
   },
   "file_extension": ".py",
   "mimetype": "text/x-python",
   "name": "python",
   "nbconvert_exporter": "python",
   "pygments_lexer": "ipython3",
   "version": "3.8.2"
  }
 },
 "nbformat": 4,
 "nbformat_minor": 4
}
